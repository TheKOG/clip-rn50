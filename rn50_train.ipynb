{
 "cells": [
  {
   "cell_type": "code",
   "execution_count": 1,
   "metadata": {},
   "outputs": [],
   "source": [
    "import torch\n",
    "import clip\n",
    "from PIL import Image\n",
    "import numpy as np\n",
    "from tqdm import tqdm"
   ]
  },
  {
   "cell_type": "code",
   "execution_count": 2,
   "metadata": {},
   "outputs": [],
   "source": [
    "device = \"cuda:3\" if torch.cuda.is_available() else \"cpu\"\n",
    "model, preprocess = clip.load(\"rn50/rn50.pt\", device=device)"
   ]
  },
  {
   "cell_type": "code",
   "execution_count": 3,
   "metadata": {},
   "outputs": [],
   "source": [
    "import os\n",
    "try:\n",
    "    os.mkdir(\"rn50\")\n",
    "except:\n",
    "    pass\n",
    "torch.save(model.state_dict(),\"rn50/rn50.pt\")"
   ]
  },
  {
   "cell_type": "code",
   "execution_count": 4,
   "metadata": {},
   "outputs": [],
   "source": [
    "import json\n",
    "# 从txt文件中读取类名\n",
    "classes_file = \"./data/classes.txt\"\n",
    "class_id={}\n",
    "with open(classes_file, \"r\") as f:\n",
    "    classes = [line.strip() for line in f.readlines()]\n",
    "for i,c in enumerate(classes):\n",
    "    class_id[c]=i\n",
    "train_data=json.load(open(\"data/captions.json\"))\n",
    "imgs_pth=[ele['pth'] for ele in train_data]\n",
    "labels=[class_id[ele['caption']] for ele in train_data]"
   ]
  },
  {
   "cell_type": "code",
   "execution_count": 5,
   "metadata": {},
   "outputs": [],
   "source": [
    "import torch.optim as optim\n",
    "import torch.nn.functional as F\n",
    "criterion = F.cross_entropy\n",
    "batch_size = 64"
   ]
  },
  {
   "cell_type": "code",
   "execution_count": 6,
   "metadata": {},
   "outputs": [],
   "source": [
    "datasets = []\n",
    "\n",
    "# for i in tqdm(range(0, len(train_data), batch_size)):\n",
    "#     img_files = imgs_pth[i:i + batch_size]\n",
    "#     # print(\"data/dataset_A/\" + img_files[0].split(\"/\")[-1])\n",
    "#     batch_images = [preprocess(Image.open(\"data/dataset_A/\" + file.split(\"/\")[-1])) for file in img_files]\n",
    "#     img_tensors = torch.stack(batch_images)\n",
    "#     label_tensors = torch.tensor(labels[i:i + batch_size])\n",
    "#     datasets.append([img_tensors,label_tensors])"
   ]
  },
  {
   "cell_type": "code",
   "execution_count": 12,
   "metadata": {},
   "outputs": [],
   "source": [
    "import pickle\n",
    "# pickle.dump(datasets,open(\"datasets_train.pkl\",\"wb\"))\n",
    "datasets=pickle.load(open(\"datasets_train.pkl\",\"rb\"))"
   ]
  },
  {
   "cell_type": "code",
   "execution_count": 8,
   "metadata": {},
   "outputs": [],
   "source": [
    "with torch.no_grad():\n",
    "    text = clip.tokenize(classes).to(device)\n",
    "    text_features = model.encode_text(text)\n",
    "    text_features /= text_features.norm(dim=-1, keepdim=True)"
   ]
  },
  {
   "cell_type": "code",
   "execution_count": 9,
   "metadata": {},
   "outputs": [
    {
     "name": "stderr",
     "output_type": "stream",
     "text": [
      "  0%|          | 0/114 [00:00<?, ?it/s]/data/wangjieyang/anaconda3/envs/vit/lib/python3.10/site-packages/torch/nn/modules/conv.py:459: UserWarning: Applied workaround for CuDNN issue, install nvrtc.so (Triggered internally at /opt/conda/conda-bld/pytorch_1682343995026/work/aten/src/ATen/native/cudnn/Conv_v8.cpp:80.)\n",
      "  return F.conv2d(input, weight, bias, self.stride,\n",
      "100%|██████████| 114/114 [00:39<00:00,  2.87it/s]"
     ]
    },
    {
     "name": "stdout",
     "output_type": "stream",
     "text": [
      "tensor(3.5645, device='cuda:3', dtype=torch.float16, grad_fn=<DivBackward0>)\n"
     ]
    },
    {
     "name": "stderr",
     "output_type": "stream",
     "text": [
      "\n"
     ]
    }
   ],
   "source": [
    "gap=10\n",
    "lr=2e-5\n",
    "tot_loss=0\n",
    "for i,(imgs,labels) in enumerate(tqdm(datasets)):\n",
    "    imgs = imgs.to(device)\n",
    "    labels=labels.to(device)\n",
    "    image_features = model.encode_image(imgs)\n",
    "    image_features /= image_features.norm(dim=-1, keepdim=True).detach()\n",
    "    pred = (100.0 * image_features @ text_features.T).softmax(dim=-1)\n",
    "    # print(pred[0].max()/pred[0].sum(),labels[0])\n",
    "    loss=criterion(pred,labels)\n",
    "    tot_loss+=loss\n",
    "    loss.backward()\n",
    "    with torch.no_grad():\n",
    "        for param in model.visual.layer4.parameters():\n",
    "            param -= lr * param.grad\n",
    "    model.zero_grad()\n",
    "    # if(i%gap==0):\n",
    "    #     print(i,loss.item())\n",
    "print(tot_loss/len(datasets))"
   ]
  },
  {
   "cell_type": "code",
   "execution_count": 10,
   "metadata": {},
   "outputs": [],
   "source": [
    "torch.save(model.state_dict(),\"rn50/test.pt\")"
   ]
  }
 ],
 "metadata": {
  "kernelspec": {
   "display_name": "vit",
   "language": "python",
   "name": "python3"
  },
  "language_info": {
   "codemirror_mode": {
    "name": "ipython",
    "version": 3
   },
   "file_extension": ".py",
   "mimetype": "text/x-python",
   "name": "python",
   "nbconvert_exporter": "python",
   "pygments_lexer": "ipython3",
   "version": "3.10.12"
  },
  "orig_nbformat": 4
 },
 "nbformat": 4,
 "nbformat_minor": 2
}
