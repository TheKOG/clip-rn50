{
 "cells": [
  {
   "cell_type": "code",
   "execution_count": 4,
   "metadata": {},
   "outputs": [],
   "source": [
    "import torch\n",
    "import clip\n",
    "from PIL import Image\n",
    "import numpy as np\n",
    "from tqdm import tqdm"
   ]
  },
  {
   "cell_type": "code",
   "execution_count": 2,
   "metadata": {},
   "outputs": [],
   "source": [
    "device = \"cuda\" if torch.cuda.is_available() else \"cpu\"\n",
    "model, preprocess = clip.load(\"rn50/test.pt\", device=device)"
   ]
  },
  {
   "cell_type": "code",
   "execution_count": 3,
   "metadata": {},
   "outputs": [],
   "source": [
    "import os\n",
    "try:\n",
    "    os.mkdir(\"rn50\")\n",
    "except:\n",
    "    pass\n",
    "torch.save(model.state_dict(),\"rn50/rn50.pt\")"
   ]
  },
  {
   "cell_type": "code",
   "execution_count": 8,
   "metadata": {},
   "outputs": [],
   "source": [
    "import json\n",
    "# 从txt文件中读取类名\n",
    "classes_file = \"./data/classes.txt\"\n",
    "with open(classes_file, \"r\") as f:\n",
    "    classes = [line.strip() for line in f.readlines()]\n",
    "files=json.load(open(\"data/imnames_A.json\"))\n",
    "\n",
    "batch_size = 64"
   ]
  },
  {
   "cell_type": "code",
   "execution_count": 6,
   "metadata": {},
   "outputs": [
    {
     "name": "stderr",
     "output_type": "stream",
     "text": [
      "100%|██████████| 344/344 [03:38<00:00,  1.58it/s]\n"
     ]
    }
   ],
   "source": [
    "# datasets = []\n",
    "\n",
    "# for i in tqdm(range(0, len(files), batch_size)):\n",
    "#     batch_files = files[i:i + batch_size]\n",
    "#     batch_images = [preprocess(Image.open(\"data/dataset_A/\" + file.split(\"/\")[-1])) for file in batch_files]\n",
    "#     batch_tensors = torch.stack(batch_images)\n",
    "#     datasets.append(batch_tensors)"
   ]
  },
  {
   "cell_type": "code",
   "execution_count": 10,
   "metadata": {},
   "outputs": [],
   "source": [
    "text = clip.tokenize(classes).to(device)"
   ]
  },
  {
   "cell_type": "code",
   "execution_count": 9,
   "metadata": {},
   "outputs": [],
   "source": [
    "import pickle\n",
    "# pickle.dump(datasets,open(\"datasets.pkl\",\"wb\"))\n",
    "datasets=pickle.load(open(\"datasets.pkl\",\"rb\"))"
   ]
  },
  {
   "cell_type": "code",
   "execution_count": 11,
   "metadata": {},
   "outputs": [
    {
     "name": "stderr",
     "output_type": "stream",
     "text": [
      "  0%|          | 0/344 [00:00<?, ?it/s]/data/wangjieyang/anaconda3/envs/vit/lib/python3.10/site-packages/torch/nn/modules/conv.py:459: UserWarning: Applied workaround for CuDNN issue, install nvrtc.so (Triggered internally at /opt/conda/conda-bld/pytorch_1682343995026/work/aten/src/ATen/native/cudnn/Conv_v8.cpp:80.)\n",
      "  return F.conv2d(input, weight, bias, self.stride,\n",
      "100%|██████████| 344/344 [01:04<00:00,  5.32it/s]\n"
     ]
    }
   ],
   "source": [
    "impreds=[]\n",
    "with torch.no_grad():\n",
    "    for imgs in tqdm(datasets):\n",
    "        imgs = imgs.to(device)\n",
    "        \n",
    "        # image_features = model.encode_image(imgs)\n",
    "        # text_features = model.encode_text(text)\n",
    "        logits_per_image, logits_per_text = model(imgs, text)\n",
    "        probs = logits_per_image.softmax(dim=-1).cpu().numpy()\n",
    "        impreds.extend(probs.tolist())\n",
    "\n",
    "impreds_ = np.array(impreds)"
   ]
  },
  {
   "cell_type": "code",
   "execution_count": 12,
   "metadata": {},
   "outputs": [],
   "source": [
    "name_pred=[]\n",
    "for i,pred in enumerate(impreds_):\n",
    "    # print(pred)\n",
    "    name_pred.append(classes[pred.argmax()])\n",
    "json.dump(name_pred,open(\"name_preds.json\",\"w\"))"
   ]
  },
  {
   "cell_type": "code",
   "execution_count": 13,
   "metadata": {},
   "outputs": [],
   "source": [
    "json.dump(impreds,open(\"impreds.json\",\"w\"))"
   ]
  }
 ],
 "metadata": {
  "kernelspec": {
   "display_name": "vit",
   "language": "python",
   "name": "python3"
  },
  "language_info": {
   "codemirror_mode": {
    "name": "ipython",
    "version": 3
   },
   "file_extension": ".py",
   "mimetype": "text/x-python",
   "name": "python",
   "nbconvert_exporter": "python",
   "pygments_lexer": "ipython3",
   "version": "3.10.12"
  },
  "orig_nbformat": 4
 },
 "nbformat": 4,
 "nbformat_minor": 2
}
